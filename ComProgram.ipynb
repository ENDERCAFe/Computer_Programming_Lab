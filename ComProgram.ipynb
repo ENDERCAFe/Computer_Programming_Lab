{
  "nbformat": 4,
  "nbformat_minor": 0,
  "metadata": {
    "colab": {
      "name": "ComProgram.ipynb",
      "provenance": [],
      "collapsed_sections": [],
      "toc_visible": true,
      "include_colab_link": true
    },
    "kernelspec": {
      "name": "python3",
      "display_name": "Python 3"
    },
    "language_info": {
      "name": "python"
    }
  },
  "cells": [
    {
      "cell_type": "markdown",
      "metadata": {
        "id": "view-in-github",
        "colab_type": "text"
      },
      "source": [
        "<a href=\"https://colab.research.google.com/github/ENDERCAFe/Computer_Programming_Lab/blob/master/ComProgram.ipynb\" target=\"_parent\"><img src=\"https://colab.research.google.com/assets/colab-badge.svg\" alt=\"Open In Colab\"/></a>"
      ]
    },
    {
      "cell_type": "markdown",
      "metadata": {
        "id": "zVpkyrnz_NR-"
      },
      "source": [
        "#__เเนะนำตัว__\n",
        "- ชื่อ: นาย ณัฐกิตติ์ ฟองสุวรรณ\n",
        "- ชื่อเล่น: คิม\n",
        "- รหัสนักศึกษา: 164404140009\n",
        "- วิชาที่ชอบ: การเขียนโปรแกรม\n",
        "- ชื่อในเกมเเละเว็บไซต์ต่างๆ: ENDER_CAFE\n",
        "- งานอดิเรก: \n",
        "    1. เขียนโปรเเกรม\n",
        "    2. ทำ Mod เกม\n",
        "    3. ฟังเพลง\n",
        "    4. ระบบ IOT\n",
        "- ความสามารถ:\n",
        "    1. เชียนโปรแกรม\n",
        "    2. ซ่อมคอมพิวเตอร์\n",
        "    3. ทำระบบ IOT\n",
        "    4. ระบบ Network เบื่องต้น\n",
        "- ภาษาโปรแกรมที่ชอบ: Python\n",
        "\n",
        "#__ข้อมูลอื่นๆ__\n",
        "\n",
        "![G_mail](https://www.img.in.th/images/3ba5236b9faf0484f58584548d5cf96c.png)\n",
        "\n",
        "- E-mail ส่วนตัว: kimnk555@gmail.com\n",
        "- E-mail นักศึกษา: natthakit.f@rmutsv.ac.th\n",
        "\n",
        "![Facebook](https://www.img.in.th/images/f5c5e413b11dda41185e8a9ebed07520.png)\n",
        "\n",
        "- Facebook: https://www.facebook.com/ENDERCAFEe \n",
        "\n",
        "![Git_hub](https://www.img.in.th/images/1852545b29d7d67ace8295f37323b182.png)   \n",
        "\n",
        "- GitHub: https://github.com/ENDERCAFe\n",
        "\n",
        "\n",
        "\n",
        "            \n",
        "\n",
        "\n"
      ]
    },
    {
      "cell_type": "markdown",
      "metadata": {
        "id": "pSkmkX_UviA1"
      },
      "source": [
        "## LAB 05\n"
      ]
    },
    {
      "cell_type": "code",
      "metadata": {
        "colab": {
          "base_uri": "https://localhost:8080/"
        },
        "id": "FighHB4kyDkB",
        "outputId": "050ca596-8dfc-40e4-f7a1-47871c5b0b34"
      },
      "source": [
        "%%writefile LAB_05.c\n",
        "#include<stdio.h>\n",
        "\n",
        "int main()\n",
        "{\n",
        "    char name[50] = \"Natthakit Fongsuwan\";\n",
        "    char nickname[10] = \"kim\";\n",
        "    char std_id[20] = \"164404140009\";\n",
        "    int age = 19;\n",
        "    printf(\"My Name is %s. \\n\", name);\n",
        "    printf(\"My Nickname is %s. \\n\", nickname);\n",
        "    printf(\"My Student ID: %s \\n\", std_id);\n",
        "    printf(\"I'm %d years old. \\n\", age);  \n",
        "    return 0;\n",
        "}"
      ],
      "execution_count": null,
      "outputs": [
        {
          "output_type": "stream",
          "text": [
            "Overwriting LAB_05.c\n"
          ],
          "name": "stdout"
        }
      ]
    },
    {
      "cell_type": "code",
      "metadata": {
        "colab": {
          "base_uri": "https://localhost:8080/"
        },
        "id": "A0nNgNaiyzUo",
        "outputId": "e643d7cc-c01f-4393-cac6-453658942f0b"
      },
      "source": [
        "%%shell\n",
        "gcc -Wall LAB_05.c -o LAB_05"
      ],
      "execution_count": null,
      "outputs": [
        {
          "output_type": "execute_result",
          "data": {
            "text/plain": [
              ""
            ]
          },
          "metadata": {},
          "execution_count": 29
        }
      ]
    },
    {
      "cell_type": "code",
      "metadata": {
        "colab": {
          "base_uri": "https://localhost:8080/"
        },
        "id": "qMOEo3CLy3Fu",
        "outputId": "9bb69b80-4074-4234-9d39-46118d12712f"
      },
      "source": [
        "%%shell\n",
        "./LAB_05"
      ],
      "execution_count": null,
      "outputs": [
        {
          "output_type": "stream",
          "text": [
            "My Name is Natthakit Fongsuwan. \n",
            "My Nickname is kim. \n",
            "My Student ID: 164404140009 \n",
            "I'm 19 years old. \n"
          ],
          "name": "stdout"
        },
        {
          "output_type": "execute_result",
          "data": {
            "text/plain": [
              ""
            ]
          },
          "metadata": {},
          "execution_count": 30
        }
      ]
    },
    {
      "cell_type": "markdown",
      "metadata": {
        "id": "RTYVFUgiv6FI"
      },
      "source": [
        "## LAB 06"
      ]
    },
    {
      "cell_type": "code",
      "metadata": {
        "colab": {
          "base_uri": "https://localhost:8080/"
        },
        "id": "lwga4TR0v_Dd",
        "outputId": "20a8c47a-a229-4fde-86ef-0810dd159fd1"
      },
      "source": [
        "%%writefile LAB_06.c\n",
        "#include<stdio.h>\n",
        "\n",
        "int main()\n",
        "{\n",
        "    int num;\n",
        "    float abc;\n",
        "    char c;\n",
        "    double average;\n",
        "    char name[50];\n",
        "    \n",
        "    printf(\"Input Number:\");\n",
        "    scanf(\"%d\",&num);fflush(stdin);\n",
        "    printf(\"Input abc:\");\n",
        "    scanf(\"%f\",&abc);fflush(stdin);\n",
        "    printf(\"Input c:\");\n",
        "    scanf(\"%c\",&c);fflush(stdin);\n",
        "    printf(\"Input Name:\");\n",
        "    scanf(\"%[^\\n]s\",name);fflush(stdin);\n",
        "    printf(\"Input average:\");\n",
        "    scanf(\"%lf\",&average);fflush(stdin);\n",
        " \n",
        "    printf(\"-------------------------------------------------\\n\");\n",
        "    printf(\"num -> %d \\n\", num);\n",
        "    printf(\"abc -> %.4f \\n\", abc);\n",
        "    printf(\"c -> %c \\n\", c);\n",
        "    printf(\"name -> %s \\n\", name);\n",
        "    printf(\"average -> %.14f \\n\", average);\n",
        "    return 0;\n",
        "}"
      ],
      "execution_count": null,
      "outputs": [
        {
          "output_type": "stream",
          "name": "stdout",
          "text": [
            "Overwriting LAB_06.c\n"
          ]
        }
      ]
    },
    {
      "cell_type": "code",
      "metadata": {
        "colab": {
          "base_uri": "https://localhost:8080/"
        },
        "id": "WF_mO72mxQVT",
        "outputId": "8fcf8895-d3e8-4e32-82b5-2ce927e1a6fc"
      },
      "source": [
        "%%shell\n",
        "gcc -Wall LAB_06.c -o LAB_06"
      ],
      "execution_count": null,
      "outputs": [
        {
          "output_type": "execute_result",
          "data": {
            "text/plain": [
              ""
            ]
          },
          "metadata": {},
          "execution_count": 137
        }
      ]
    },
    {
      "cell_type": "code",
      "metadata": {
        "colab": {
          "base_uri": "https://localhost:8080/"
        },
        "id": "s9Fegb1kxyPj",
        "outputId": "075c748d-0ba8-49b6-d963-acabfc3bcb67"
      },
      "source": [
        "%%shell\n",
        "./LAB_06"
      ],
      "execution_count": null,
      "outputs": [
        {
          "output_type": "stream",
          "name": "stdout",
          "text": [
            "Input Number:40\n",
            "Input abc:3.14159\n",
            "Input c:Input Name:Natthakit Fongsuwan\n",
            "Input average:3.91818383918389\n",
            "-------------------------------------------------\n",
            "num -> 40 \n",
            "abc -> 3.1416 \n",
            "c -> \n",
            " \n",
            "name -> Natthakit Fongsuwan \n",
            "average -> 3.91818383918389 \n"
          ]
        },
        {
          "output_type": "execute_result",
          "data": {
            "text/plain": [
              ""
            ]
          },
          "metadata": {},
          "execution_count": 138
        }
      ]
    },
    {
      "cell_type": "markdown",
      "metadata": {
        "id": "pCi2UF7Uicwc"
      },
      "source": [
        "*ข้อความตัวเอียง*## LAB 07"
      ]
    },
    {
      "cell_type": "code",
      "metadata": {
        "colab": {
          "base_uri": "https://localhost:8080/"
        },
        "id": "EuXHfh3aigmy",
        "outputId": "895ed6aa-9a1f-489d-9d5c-1d2ceeff6973"
      },
      "source": [
        "%%writefile LAB_07.c\n",
        "#include<stdio.h>\n",
        "\n",
        "int main()\n",
        "{\n",
        "    char name[50];\n",
        "    float salary;\n",
        "    int age;\n",
        "    \n",
        "    printf(\"Input Name \\n\");\n",
        "    scanf(\"%[^\\n]s\",name);\n",
        "    printf(\"Input salary \\n\");\n",
        "    scanf(\"%f\",&salary);\n",
        "    printf(\"Input Age \\n\");\n",
        "    scanf(\"%d\",&age);\n",
        " \n",
        "    printf(\"-------------------------------------------------\\n\");\n",
        "    printf(\"Name -> %s \\n\", name);\n",
        "    printf(\"salary -> %.2f \\n\", salary);\n",
        "    printf(\"Age -> %d \\n\", age);\n",
        "    return 0;\n",
        "}"
      ],
      "execution_count": null,
      "outputs": [
        {
          "output_type": "stream",
          "name": "stdout",
          "text": [
            "Overwriting LAB_07.c\n"
          ]
        }
      ]
    },
    {
      "cell_type": "code",
      "metadata": {
        "colab": {
          "base_uri": "https://localhost:8080/"
        },
        "id": "IxHnAJMKjatV",
        "outputId": "03e553eb-0928-46fb-922c-0e8650415bce"
      },
      "source": [
        "%%shell\n",
        "gcc -Wall LAB_07.c -o LAB_07"
      ],
      "execution_count": null,
      "outputs": [
        {
          "output_type": "execute_result",
          "data": {
            "text/plain": [
              ""
            ]
          },
          "metadata": {},
          "execution_count": 134
        }
      ]
    },
    {
      "cell_type": "code",
      "metadata": {
        "colab": {
          "base_uri": "https://localhost:8080/"
        },
        "id": "3ORW8OBJjeso",
        "outputId": "45fbd48a-b651-4ace-9ed6-86727ed06a73"
      },
      "source": [
        "%%shell\n",
        "./LAB_07"
      ],
      "execution_count": null,
      "outputs": [
        {
          "output_type": "stream",
          "name": "stdout",
          "text": [
            "Input Name \n",
            "Natthakit Fongsuwan\n",
            "Input salary \n",
            "15000.234\n",
            "Input Age \n",
            "19\n",
            "-------------------------------------------------\n",
            "Name -> Natthakit Fongsuwan \n",
            "salary -> 15000.23 \n",
            "Age -> 19 \n"
          ]
        },
        {
          "output_type": "execute_result",
          "data": {
            "text/plain": [
              ""
            ]
          },
          "metadata": {},
          "execution_count": 135
        }
      ]
    },
    {
      "cell_type": "markdown",
      "metadata": {
        "id": "c-0E3jizdIEP"
      },
      "source": [
        "## LAB 08"
      ]
    },
    {
      "cell_type": "code",
      "metadata": {
        "colab": {
          "base_uri": "https://localhost:8080/"
        },
        "id": "hCP6ASrTdQrR",
        "outputId": "951d3ce0-aeab-42e7-d32d-6e0fcd302376"
      },
      "source": [
        "%%writefile LAB_08.c\n",
        "#include<stdio.h>\n",
        "\n",
        "int main()\n",
        "{\n",
        "    float x;\n",
        "    scanf(\"%f\" ,&x);\n",
        "    char grade;\n",
        "      if(x >= 80)\n",
        "        grade = 'G'; // Good\n",
        "      else if(x >= 50)\n",
        "        grade = 'P'; //Pass\n",
        "      else if(x >= 0)\n",
        "        grade = 'F'; //Fail\n",
        "    printf(\"Grade %c \\n\",grade);\n",
        "    return 0;\n",
        "}"
      ],
      "execution_count": null,
      "outputs": [
        {
          "output_type": "stream",
          "name": "stdout",
          "text": [
            "Overwriting LAB_08.c\n"
          ]
        }
      ]
    },
    {
      "cell_type": "code",
      "metadata": {
        "colab": {
          "base_uri": "https://localhost:8080/"
        },
        "id": "-lBjD4sQfs_R",
        "outputId": "7f976ea6-ec5a-47f4-d3ea-46c63fcbcc51"
      },
      "source": [
        "%%shell\n",
        "gcc -Wall LAB_08.c -o LAB_08"
      ],
      "execution_count": null,
      "outputs": [
        {
          "output_type": "execute_result",
          "data": {
            "text/plain": [
              ""
            ]
          },
          "metadata": {},
          "execution_count": 47
        }
      ]
    },
    {
      "cell_type": "markdown",
      "metadata": {
        "id": "QBcvIhNgjL0N"
      },
      "source": [
        "กรณีที่ 1 x >= 0"
      ]
    },
    {
      "cell_type": "code",
      "metadata": {
        "colab": {
          "base_uri": "https://localhost:8080/"
        },
        "id": "T1rA9wl4fyDc",
        "outputId": "dca1f573-3296-42bd-d8c1-5b4961e94a7b"
      },
      "source": [
        "%%shell\n",
        "./LAB_08"
      ],
      "execution_count": null,
      "outputs": [
        {
          "output_type": "stream",
          "name": "stdout",
          "text": [
            "47\n",
            "Grade F \n"
          ]
        },
        {
          "output_type": "execute_result",
          "data": {
            "text/plain": [
              ""
            ]
          },
          "metadata": {},
          "execution_count": 48
        }
      ]
    },
    {
      "cell_type": "markdown",
      "metadata": {
        "id": "cm3x3BVtjY2W"
      },
      "source": [
        "กรณีที่2 x >= 50"
      ]
    },
    {
      "cell_type": "code",
      "metadata": {
        "colab": {
          "base_uri": "https://localhost:8080/"
        },
        "id": "5aLzWzIpjhY4",
        "outputId": "e0361d18-376c-4cb6-d8f4-6b8884453653"
      },
      "source": [
        "%%shell\n",
        "./LAB_08"
      ],
      "execution_count": null,
      "outputs": [
        {
          "output_type": "stream",
          "name": "stdout",
          "text": [
            "50\n",
            "Grade P \n"
          ]
        },
        {
          "output_type": "execute_result",
          "data": {
            "text/plain": [
              ""
            ]
          },
          "metadata": {},
          "execution_count": 49
        }
      ]
    },
    {
      "cell_type": "markdown",
      "metadata": {
        "id": "w92KQbu0jt13"
      },
      "source": [
        "กรณีที่3 x >= 80"
      ]
    },
    {
      "cell_type": "code",
      "metadata": {
        "colab": {
          "base_uri": "https://localhost:8080/"
        },
        "id": "75NWTbrGjid3",
        "outputId": "aca8dbee-7fae-4a32-bcb6-a746653e3084"
      },
      "source": [
        "%%shell\n",
        "./LAB_08"
      ],
      "execution_count": null,
      "outputs": [
        {
          "output_type": "stream",
          "name": "stdout",
          "text": [
            "80\n",
            "Grade G \n"
          ]
        },
        {
          "output_type": "execute_result",
          "data": {
            "text/plain": [
              ""
            ]
          },
          "metadata": {},
          "execution_count": 50
        }
      ]
    },
    {
      "cell_type": "markdown",
      "metadata": {
        "id": "m3I0J-3Ymt8b"
      },
      "source": [
        "## LAB 09"
      ]
    },
    {
      "cell_type": "code",
      "metadata": {
        "colab": {
          "base_uri": "https://localhost:8080/"
        },
        "id": "KNPrALiim3OG",
        "outputId": "9afe6681-478e-402a-8fde-16d69b431d90"
      },
      "source": [
        "%%writefile LAB_09.c\n",
        "#include<stdio.h>\n",
        "\n",
        "int main()\n",
        "{\n",
        "    int age;\n",
        "    printf(\"Enter Age:\");\n",
        "    scanf(\"%d\" ,&age);\n",
        "      if(age >= 18)\n",
        "        {\n",
        "          printf(\"OK ! go to Website\");\n",
        "        }\n",
        "      else\n",
        "      {\n",
        "        printf(\"No No No 18+ Only\");\n",
        "      }\n",
        "    return 0;\n",
        "}"
      ],
      "execution_count": null,
      "outputs": [
        {
          "output_type": "stream",
          "name": "stdout",
          "text": [
            "Overwriting LAB_09.c\n"
          ]
        }
      ]
    },
    {
      "cell_type": "code",
      "metadata": {
        "colab": {
          "base_uri": "https://localhost:8080/"
        },
        "id": "9YXebh-Nnwrz",
        "outputId": "ae8c110f-5ee9-4f7c-8525-f0f2e3880b97"
      },
      "source": [
        "%%shell\n",
        "gcc -Wall LAB_09.c -o LAB_09"
      ],
      "execution_count": null,
      "outputs": [
        {
          "output_type": "execute_result",
          "data": {
            "text/plain": [
              ""
            ]
          },
          "metadata": {},
          "execution_count": 76
        }
      ]
    },
    {
      "cell_type": "code",
      "metadata": {
        "id": "MNrJ8D-lofCz"
      },
      "source": [
        "กรณีที่ 1 age >= 18"
      ],
      "execution_count": null,
      "outputs": []
    },
    {
      "cell_type": "code",
      "metadata": {
        "colab": {
          "base_uri": "https://localhost:8080/"
        },
        "id": "8jez7wPZn01h",
        "outputId": "ffd3f0ed-a954-418e-83e0-9cafd9aa35f3"
      },
      "source": [
        "%%shell\n",
        "./LAB_09"
      ],
      "execution_count": null,
      "outputs": [
        {
          "output_type": "stream",
          "name": "stdout",
          "text": [
            "Enter Age:18\n",
            "OK ! go to Website"
          ]
        },
        {
          "output_type": "execute_result",
          "data": {
            "text/plain": [
              ""
            ]
          },
          "metadata": {},
          "execution_count": 73
        }
      ]
    },
    {
      "cell_type": "markdown",
      "metadata": {
        "id": "ZMYnqovZolRl"
      },
      "source": [
        "กรณีที่ 2 อายุน้อยกว่า18ลงไป"
      ]
    },
    {
      "cell_type": "code",
      "metadata": {
        "colab": {
          "base_uri": "https://localhost:8080/"
        },
        "id": "OL_mby7zoqsW",
        "outputId": "d82d0f62-7d01-45cb-a3af-5da9c2a9203f"
      },
      "source": [
        "%%shell\n",
        "./LAB_09"
      ],
      "execution_count": null,
      "outputs": [
        {
          "output_type": "stream",
          "name": "stdout",
          "text": [
            "Enter Age:17\n",
            "No No No 18+ Only"
          ]
        },
        {
          "output_type": "execute_result",
          "data": {
            "text/plain": [
              ""
            ]
          },
          "metadata": {},
          "execution_count": 74
        }
      ]
    },
    {
      "cell_type": "markdown",
      "metadata": {
        "id": "B-ku2Jj9qNWf"
      },
      "source": [
        "## LAB 10"
      ]
    },
    {
      "cell_type": "code",
      "metadata": {
        "colab": {
          "base_uri": "https://localhost:8080/"
        },
        "id": "Na9pTiNSqO65",
        "outputId": "87b9fa80-1d10-4615-e9e9-d6a6961f01b8"
      },
      "source": [
        "%%writefile LAB_10.c\n",
        "#include<stdio.h>\n",
        "\n",
        "int main()\n",
        "{\n",
        "    float score1;\n",
        "    float score2;\n",
        "    printf(\"Enter Score1:\");\n",
        "    scanf(\"%f\" ,&score1);\n",
        "    printf(\"Enter Score2:\");\n",
        "    scanf(\"%f\" ,&score2);\n",
        "    float total = score1 + score2;\n",
        "      if(total >= 20)\n",
        "        {\n",
        "          printf(\"Total Score: %.2f Passed!!! \", total);\n",
        "        }\n",
        "      else\n",
        "      {\n",
        "        printf(\"Total Score: %.2f Failed!!! \", total);\n",
        "      }\n",
        "    return 0;\n",
        "}"
      ],
      "execution_count": null,
      "outputs": [
        {
          "output_type": "stream",
          "name": "stdout",
          "text": [
            "Writing LAB_10.c\n"
          ]
        }
      ]
    },
    {
      "cell_type": "code",
      "metadata": {
        "colab": {
          "base_uri": "https://localhost:8080/"
        },
        "id": "-eCEhSikrmdQ",
        "outputId": "d97479b3-449f-4e2a-f578-a7afdffceb0b"
      },
      "source": [
        "%%shell\n",
        "gcc -Wall LAB_10.c -o LAB_10"
      ],
      "execution_count": null,
      "outputs": [
        {
          "output_type": "execute_result",
          "data": {
            "text/plain": [
              ""
            ]
          },
          "metadata": {},
          "execution_count": 91
        }
      ]
    },
    {
      "cell_type": "markdown",
      "metadata": {
        "id": "lhCZfWJet_jJ"
      },
      "source": [
        "กรณีที่ 1 total >= 20"
      ]
    },
    {
      "cell_type": "code",
      "metadata": {
        "colab": {
          "base_uri": "https://localhost:8080/"
        },
        "id": "eccmVxDOroe-",
        "outputId": "7bcb4cc9-f963-4b6c-a421-68585034bc87"
      },
      "source": [
        ""
      ],
      "execution_count": null,
      "outputs": [
        {
          "output_type": "stream",
          "name": "stdout",
          "text": [
            "Enter Score1:10\n",
            "Enter Score2:10\n",
            "Total Score: 20.00 Passed!!! "
          ]
        },
        {
          "output_type": "execute_result",
          "data": {
            "text/plain": [
              ""
            ]
          },
          "metadata": {},
          "execution_count": 94
        }
      ]
    },
    {
      "cell_type": "markdown",
      "metadata": {
        "id": "IodJS_dIuF2E"
      },
      "source": [
        "กรณีที่ 2 totalน้อยกว่า 20"
      ]
    },
    {
      "cell_type": "code",
      "metadata": {
        "colab": {
          "base_uri": "https://localhost:8080/"
        },
        "id": "jdz0KM-8uMNn",
        "outputId": "b3231e22-cff6-43f6-9c76-912788e75e04"
      },
      "source": [
        "%%shell\n",
        "./LAB_10"
      ],
      "execution_count": null,
      "outputs": [
        {
          "output_type": "stream",
          "name": "stdout",
          "text": [
            "Enter Score1:5\n",
            "Enter Score2:5\n",
            "Total Score: 10.00 Failed!!! "
          ]
        },
        {
          "output_type": "execute_result",
          "data": {
            "text/plain": [
              ""
            ]
          },
          "metadata": {},
          "execution_count": 95
        }
      ]
    },
    {
      "cell_type": "markdown",
      "metadata": {
        "id": "yOZHzfgux6Wq"
      },
      "source": [
        "## LAB 11"
      ]
    },
    {
      "cell_type": "code",
      "metadata": {
        "colab": {
          "base_uri": "https://localhost:8080/"
        },
        "id": "-yVtkfe9x-7G",
        "outputId": "e6f01339-0d7c-4516-d29b-35dd5bb02aff"
      },
      "source": [
        "%%writefile LAB_11.c\n",
        "#include <stdio.h>\n",
        "int main()\n",
        "{\n",
        "            float weight, height;\n",
        "            printf(\"Enter weight(kg): \"); scanf(\"%f\",&weight);\n",
        "            printf(\"Enter height(cm): \"); scanf(\"%f\",&height);\n",
        "           \n",
        "            float hMeter     = height/100.0;\n",
        "            float BMI = (float)weight/(hMeter*hMeter);\n",
        "           \n",
        "            printf(\"Your BMI: %.1f\\n\",BMI);\n",
        "           \n",
        "            //insert your code here เพิ่มโค้ดคุณที่นี่\n",
        "\n",
        "             if (BMI < 18.5){\n",
        "              printf(\"Too thin\\n\");}\n",
        "            else if (BMI <= 22.9){\n",
        "              printf(\"Good\\n\");}\n",
        "            else if (BMI <= 24.9){\n",
        "              printf(\"Little Fat\\n\");}\n",
        "            else if (BMI <= 29.9){\n",
        "              printf(\"Big Fat\\n\");}\n",
        "            else\n",
        "              printf(\"Dangerous Fat\\n\");\n",
        "            return 0;\n",
        "}"
      ],
      "execution_count": null,
      "outputs": [
        {
          "output_type": "stream",
          "name": "stdout",
          "text": [
            "Writing LAB_11.c\n"
          ]
        }
      ]
    },
    {
      "cell_type": "code",
      "metadata": {
        "colab": {
          "base_uri": "https://localhost:8080/"
        },
        "id": "0Ci3X_Ppy2IS",
        "outputId": "8e9ef564-0f8a-4e13-9c0a-cd9b7208dee3"
      },
      "source": [
        "%%shell\n",
        "gcc -Wall LAB_11.c -o LAB_11"
      ],
      "execution_count": null,
      "outputs": [
        {
          "output_type": "execute_result",
          "data": {
            "text/plain": [
              ""
            ]
          },
          "metadata": {},
          "execution_count": 98
        }
      ]
    },
    {
      "cell_type": "markdown",
      "metadata": {
        "id": "y9nZ2u4Oz5Ys"
      },
      "source": [
        "กรณีที่ 1 BMI < 18.5"
      ]
    },
    {
      "cell_type": "code",
      "metadata": {
        "colab": {
          "base_uri": "https://localhost:8080/"
        },
        "id": "C-zYcO1dzJog",
        "outputId": "6ce5da60-e27f-4e62-c64e-de9f2aee9a1c"
      },
      "source": [
        "%%shell\n",
        "./LAB_11"
      ],
      "execution_count": null,
      "outputs": [
        {
          "output_type": "stream",
          "name": "stdout",
          "text": [
            "Enter weight(kg): 50\n",
            "Enter height(cm): 170\n",
            "Your BMI: 17.3\n",
            "Too thin\n"
          ]
        },
        {
          "output_type": "execute_result",
          "data": {
            "text/plain": [
              ""
            ]
          },
          "metadata": {},
          "execution_count": 106
        }
      ]
    },
    {
      "cell_type": "markdown",
      "metadata": {
        "id": "RHebDybNz51O"
      },
      "source": [
        "กรณีที่ 2 BMI <= 22.9"
      ]
    },
    {
      "cell_type": "code",
      "metadata": {
        "colab": {
          "base_uri": "https://localhost:8080/"
        },
        "id": "oKdBiDpr0c4U",
        "outputId": "b3bc1c0d-fb80-4b0c-80eb-991d8b393ca3"
      },
      "source": [
        "%%shell\n",
        "./LAB_11"
      ],
      "execution_count": null,
      "outputs": [
        {
          "output_type": "stream",
          "name": "stdout",
          "text": [
            "Enter weight(kg): 60\n",
            "Enter height(cm): 170\n",
            "Your BMI: 20.8\n",
            "Good\n"
          ]
        },
        {
          "output_type": "execute_result",
          "data": {
            "text/plain": [
              ""
            ]
          },
          "metadata": {},
          "execution_count": 107
        }
      ]
    },
    {
      "cell_type": "markdown",
      "metadata": {
        "id": "Quhcl48Jz6U2"
      },
      "source": [
        "กรณีที่ 3 BMI <= 22.9"
      ]
    },
    {
      "cell_type": "code",
      "metadata": {
        "colab": {
          "base_uri": "https://localhost:8080/"
        },
        "id": "ajQ3BRxk0dgL",
        "outputId": "dd24f98e-a923-4376-c725-8c3382c485c4"
      },
      "source": [
        "%%shell\n",
        "./LAB_11"
      ],
      "execution_count": null,
      "outputs": [
        {
          "output_type": "stream",
          "name": "stdout",
          "text": [
            "Enter weight(kg): 70\n",
            "Enter height(cm): 170\n",
            "Your BMI: 24.2\n",
            "Little Fat\n"
          ]
        },
        {
          "output_type": "execute_result",
          "data": {
            "text/plain": [
              ""
            ]
          },
          "metadata": {},
          "execution_count": 108
        }
      ]
    },
    {
      "cell_type": "markdown",
      "metadata": {
        "id": "gbPbpA77z6pD"
      },
      "source": [
        "กรณีที่ 4 BMI <= 24.9"
      ]
    },
    {
      "cell_type": "code",
      "metadata": {
        "colab": {
          "base_uri": "https://localhost:8080/"
        },
        "id": "tpi9QyjB0eNS",
        "outputId": "ea230e9d-d8da-43f9-fad1-f7969b69b5e1"
      },
      "source": [
        "%%shell\n",
        "./LAB_11"
      ],
      "execution_count": null,
      "outputs": [
        {
          "output_type": "stream",
          "name": "stdout",
          "text": [
            "Enter weight(kg): 80\n",
            "Enter height(cm): 170\n",
            "Your BMI: 27.7\n",
            "Big Fat\n"
          ]
        },
        {
          "output_type": "execute_result",
          "data": {
            "text/plain": [
              ""
            ]
          },
          "metadata": {},
          "execution_count": 109
        }
      ]
    },
    {
      "cell_type": "markdown",
      "metadata": {
        "id": "-1Qi6bLpz7V0"
      },
      "source": [
        "กรณีที่ 5 BMI <= 29.9"
      ]
    },
    {
      "cell_type": "code",
      "metadata": {
        "colab": {
          "base_uri": "https://localhost:8080/"
        },
        "id": "EhcSWejU0fBC",
        "outputId": "8889064c-bbb8-4f88-d8de-f5173d737641"
      },
      "source": [
        "%%shell\n",
        "./LAB_11"
      ],
      "execution_count": null,
      "outputs": [
        {
          "output_type": "stream",
          "name": "stdout",
          "text": [
            "Enter weight(kg): 90\n",
            "Enter height(cm): 170\n",
            "Your BMI: 31.1\n",
            "Dangerous Fat\n"
          ]
        },
        {
          "output_type": "execute_result",
          "data": {
            "text/plain": [
              ""
            ]
          },
          "metadata": {},
          "execution_count": 110
        }
      ]
    },
    {
      "cell_type": "markdown",
      "metadata": {
        "id": "DBTAElXh1vCi"
      },
      "source": [
        "## LAB 12"
      ]
    },
    {
      "cell_type": "code",
      "metadata": {
        "id": "D3VTZwQL8CsX"
      },
      "source": [
        "%%writefile LAB_12.c\n",
        "#include <stdio.h>\n",
        "int main()\n",
        "{\n",
        "            int menu_number;\n",
        "              printf(\"Menu:\\n1) Papaya Salad\\n\");\n",
        "              printf(\"2) Grilled Chicken\\n\");\n",
        "              printf(\"3) Sticky Rice\\n\");\n",
        "              printf(\"Enter Menu: \");\n",
        "              scanf(\"%d\",&menu_number);\n",
        "              switch(menu_number)\n",
        "              {\n",
        "                  case 1:\n",
        "                    printf(\"Your order is Papaya Salad\"); break;\n",
        "                  case 2:\n",
        "                    printf(\"Your order is Grilled Chicken\"); break;\n",
        "                  case 3:\n",
        "                    printf(\"Your order is Sticky Rice\"); break;\n",
        "                  default :printf(\"Incorrect order\\n\");\n",
        "              }\n",
        "            return 0;\n",
        "}"
      ],
      "execution_count": null,
      "outputs": []
    },
    {
      "cell_type": "code",
      "metadata": {
        "colab": {
          "base_uri": "https://localhost:8080/"
        },
        "id": "nKHKNME332Dp",
        "outputId": "4102a666-ae09-4448-ebd8-671f4a35b918"
      },
      "source": [
        "%%shell\n",
        "gcc -Wall LAB_12.c -o LAB_12"
      ],
      "execution_count": null,
      "outputs": [
        {
          "output_type": "execute_result",
          "data": {
            "text/plain": [
              ""
            ]
          },
          "metadata": {},
          "execution_count": 114
        }
      ]
    },
    {
      "cell_type": "code",
      "metadata": {
        "id": "6vJfWyES4iUQ"
      },
      "source": [
        "กรณีที่ 1 case 1"
      ],
      "execution_count": null,
      "outputs": []
    },
    {
      "cell_type": "code",
      "metadata": {
        "colab": {
          "base_uri": "https://localhost:8080/"
        },
        "id": "QubClTT035bk",
        "outputId": "8ecf94d7-1f8a-42df-a134-57d6fd18db37"
      },
      "source": [
        "%%shell\n",
        "./LAB_12"
      ],
      "execution_count": null,
      "outputs": [
        {
          "output_type": "stream",
          "name": "stdout",
          "text": [
            "Menu:\n",
            "1) Papaya Salad\n",
            "2) Grilled Chicken\n",
            "3) Sticky Rice\n",
            "Enter Menu: 1\n",
            "Your order is Papaya Salad"
          ]
        },
        {
          "output_type": "execute_result",
          "data": {
            "text/plain": [
              ""
            ]
          },
          "metadata": {},
          "execution_count": 119
        }
      ]
    },
    {
      "cell_type": "markdown",
      "metadata": {
        "id": "CIhWseO64m0P"
      },
      "source": [
        "กรณีที่ 2 case 2"
      ]
    },
    {
      "cell_type": "code",
      "metadata": {
        "colab": {
          "base_uri": "https://localhost:8080/"
        },
        "id": "ZI3sNENj4x0u",
        "outputId": "a864dc65-3ff7-423c-bb97-f07377a907db"
      },
      "source": [
        "%%shell\n",
        "./LAB_12"
      ],
      "execution_count": null,
      "outputs": [
        {
          "output_type": "stream",
          "name": "stdout",
          "text": [
            "Menu:\n",
            "1) Papaya Salad\n",
            "2) Grilled Chicken\n",
            "3) Sticky Rice\n",
            "Enter Menu: 2\n",
            "Your order is Grilled Chicken"
          ]
        },
        {
          "output_type": "execute_result",
          "data": {
            "text/plain": [
              ""
            ]
          },
          "metadata": {},
          "execution_count": 120
        }
      ]
    },
    {
      "cell_type": "markdown",
      "metadata": {
        "id": "8g7NmoeM4ow3"
      },
      "source": [
        "กรณีที่ 3 case 3"
      ]
    },
    {
      "cell_type": "code",
      "metadata": {
        "colab": {
          "base_uri": "https://localhost:8080/"
        },
        "id": "JRu0751a4yYJ",
        "outputId": "48f2af3e-9bf8-45f2-cf05-225dcca6b668"
      },
      "source": [
        "%%shell\n",
        "./LAB_12"
      ],
      "execution_count": null,
      "outputs": [
        {
          "output_type": "stream",
          "name": "stdout",
          "text": [
            "Menu:\n",
            "1) Papaya Salad\n",
            "2) Grilled Chicken\n",
            "3) Sticky Rice\n",
            "Enter Menu: 3\n",
            "Your order is Sticky Rice"
          ]
        },
        {
          "output_type": "execute_result",
          "data": {
            "text/plain": [
              ""
            ]
          },
          "metadata": {},
          "execution_count": 121
        }
      ]
    },
    {
      "cell_type": "markdown",
      "metadata": {
        "id": "33NqtNmV4qn4"
      },
      "source": [
        "กรณีที่ 4 case default"
      ]
    },
    {
      "cell_type": "code",
      "metadata": {
        "colab": {
          "base_uri": "https://localhost:8080/"
        },
        "id": "hZM13hOU8N09",
        "outputId": "059ca864-001e-4cdb-ce30-39151511fc62"
      },
      "source": [
        "%%shell\n",
        "./LAB_12"
      ],
      "execution_count": null,
      "outputs": [
        {
          "output_type": "stream",
          "name": "stdout",
          "text": [
            "Menu:\n",
            "1) Papaya Salad\n",
            "2) Grilled Chicken\n",
            "3) Sticky Rice\n",
            "Enter Menu: 4\n",
            "Incorrect order\n"
          ]
        },
        {
          "output_type": "execute_result",
          "data": {
            "text/plain": [
              ""
            ]
          },
          "metadata": {},
          "execution_count": 136
        }
      ]
    },
    {
      "cell_type": "markdown",
      "metadata": {
        "id": "gWnAUWQl4vVJ"
      },
      "source": [
        "กรณีที่ 5 case default"
      ]
    },
    {
      "cell_type": "code",
      "metadata": {
        "colab": {
          "base_uri": "https://localhost:8080/"
        },
        "id": "lRhaftQt8OQV",
        "outputId": "c21b0d77-c21b-41de-dbad-dd52b098d89e"
      },
      "source": [
        "%%shell\n",
        "./LAB_12"
      ],
      "execution_count": null,
      "outputs": [
        {
          "output_type": "stream",
          "name": "stdout",
          "text": [
            "Menu:\n",
            "1) Papaya Salad\n",
            "2) Grilled Chicken\n",
            "3) Sticky Rice\n",
            "Enter Menu: 5\n",
            "Incorrect order\n"
          ]
        },
        {
          "output_type": "execute_result",
          "data": {
            "text/plain": [
              ""
            ]
          },
          "metadata": {},
          "execution_count": 137
        }
      ]
    },
    {
      "cell_type": "markdown",
      "metadata": {
        "id": "ZZHFOyys_Fcr"
      },
      "source": [
        "## LAB 13"
      ]
    },
    {
      "cell_type": "code",
      "metadata": {
        "colab": {
          "base_uri": "https://localhost:8080/"
        },
        "id": "-igJ0gIr8FOX",
        "outputId": "886d9c8c-fc47-4a72-a871-b70c7a4f265c"
      },
      "source": [
        "%%writefile LAB_13.c\n",
        "#include <stdio.h>\n",
        "int main()\n",
        "{\n",
        "            char menu;\n",
        "              printf(\"Menu:\\n1 | A | a -> Papaya Salad\\n\");\n",
        "              printf(\"2 | B | b -> Grilled Chicken\\n\");\n",
        "              printf(\"3 | C | c -> Sticky Rice\\n\");\n",
        "              printf(\"Enter Menu: \");\n",
        "              scanf(\"%c\",&menu);\n",
        "              switch(menu)\n",
        "              {\n",
        "                  case '1':\n",
        "                  case 'A':\n",
        "                  case 'a': \n",
        "                    printf(\"Your order is Papaya Salad\"); break;\n",
        "                  case '2':\n",
        "                  case 'B':\n",
        "                  case 'b':\n",
        "                    printf(\"Your order is Grilled Chicken\"); break;\n",
        "                  case '3':\n",
        "                  case 'C':\n",
        "                  case 'c':\n",
        "                    printf(\"Your order is Sticky Rice\"); break;\n",
        "                  default :printf(\"Incorrect order\\n\");\n",
        "              }\n",
        "            return 0;\n",
        "}"
      ],
      "execution_count": null,
      "outputs": [
        {
          "output_type": "stream",
          "name": "stdout",
          "text": [
            "Overwriting LAB_13.c\n"
          ]
        }
      ]
    },
    {
      "cell_type": "code",
      "metadata": {
        "colab": {
          "base_uri": "https://localhost:8080/"
        },
        "id": "-vwcy7N48JPb",
        "outputId": "b082008d-6a5b-445d-f2fb-06cc02cd025e"
      },
      "source": [
        "%%shell\n",
        "gcc -Wall LAB_13.c -o LAB_13"
      ],
      "execution_count": null,
      "outputs": [
        {
          "output_type": "execute_result",
          "data": {
            "text/plain": [
              ""
            ]
          },
          "metadata": {},
          "execution_count": 134
        }
      ]
    },
    {
      "cell_type": "markdown",
      "metadata": {
        "id": "gVuGBqMc9CN4"
      },
      "source": [
        "กรณีที่ 1 case 1 A a"
      ]
    },
    {
      "cell_type": "code",
      "metadata": {
        "colab": {
          "base_uri": "https://localhost:8080/"
        },
        "id": "KGdOcfCy8K4a",
        "outputId": "7a3b6f37-c594-4261-928d-b15737fb246d"
      },
      "source": [
        "%%shell\n",
        "./LAB_13"
      ],
      "execution_count": null,
      "outputs": [
        {
          "output_type": "stream",
          "name": "stdout",
          "text": [
            "Menu:\n",
            "1 | A | a -> Papaya Salad\n",
            "2 | B | b -> Grilled Chicken\n",
            "3 | C | c -> Sticky Rice\n",
            "Enter Menu: 1\n",
            "Your order is Papaya Salad"
          ]
        },
        {
          "output_type": "execute_result",
          "data": {
            "text/plain": [
              ""
            ]
          },
          "metadata": {},
          "execution_count": 151
        }
      ]
    },
    {
      "cell_type": "code",
      "metadata": {
        "colab": {
          "base_uri": "https://localhost:8080/"
        },
        "id": "BYYMibcd-ONo",
        "outputId": "917d1b8a-42d1-4c47-9f71-1ad7db20b34d"
      },
      "source": [
        "%%shell\n",
        "./LAB_13"
      ],
      "execution_count": null,
      "outputs": [
        {
          "output_type": "stream",
          "name": "stdout",
          "text": [
            "Menu:\n",
            "1 | A | a -> Papaya Salad\n",
            "2 | B | b -> Grilled Chicken\n",
            "3 | C | c -> Sticky Rice\n",
            "Enter Menu: A\n",
            "Your order is Papaya Salad"
          ]
        },
        {
          "output_type": "execute_result",
          "data": {
            "text/plain": [
              ""
            ]
          },
          "metadata": {},
          "execution_count": 142
        }
      ]
    },
    {
      "cell_type": "code",
      "metadata": {
        "colab": {
          "base_uri": "https://localhost:8080/"
        },
        "id": "blN84udD-OZ_",
        "outputId": "233b3d43-35c6-422d-cc75-d167dd190756"
      },
      "source": [
        "%%shell\n",
        "./LAB_13"
      ],
      "execution_count": null,
      "outputs": [
        {
          "output_type": "stream",
          "name": "stdout",
          "text": [
            "Menu:\n",
            "1 | A | a -> Papaya Salad\n",
            "2 | B | b -> Grilled Chicken\n",
            "3 | C | c -> Sticky Rice\n",
            "Enter Menu: a\n",
            "Your order is Papaya Salad"
          ]
        },
        {
          "output_type": "execute_result",
          "data": {
            "text/plain": [
              ""
            ]
          },
          "metadata": {},
          "execution_count": 143
        }
      ]
    },
    {
      "cell_type": "markdown",
      "metadata": {
        "id": "UgRf1wUO9DPg"
      },
      "source": [
        "กรณีที่ 2 case 2 B b"
      ]
    },
    {
      "cell_type": "code",
      "metadata": {
        "colab": {
          "base_uri": "https://localhost:8080/"
        },
        "id": "iqH5ZPNe95S4",
        "outputId": "adca9a23-d3f6-4a35-c0de-9a099bb3ea42"
      },
      "source": [
        "%%shell\n",
        "./LAB_13"
      ],
      "execution_count": null,
      "outputs": [
        {
          "output_type": "stream",
          "name": "stdout",
          "text": [
            "Menu:\n",
            "1 | A | a -> Papaya Salad\n",
            "2 | B | b -> Grilled Chicken\n",
            "3 | C | c -> Sticky Rice\n",
            "Enter Menu: 2\n",
            "Your order is Grilled Chicken"
          ]
        },
        {
          "output_type": "execute_result",
          "data": {
            "text/plain": [
              ""
            ]
          },
          "metadata": {},
          "execution_count": 144
        }
      ]
    },
    {
      "cell_type": "code",
      "metadata": {
        "colab": {
          "base_uri": "https://localhost:8080/"
        },
        "id": "Y2Ah_tB7-UpB",
        "outputId": "9acec525-a064-45e4-a36d-eb154f40f8b9"
      },
      "source": [
        "%%shell\n",
        "./LAB_13"
      ],
      "execution_count": null,
      "outputs": [
        {
          "output_type": "stream",
          "name": "stdout",
          "text": [
            "Menu:\n",
            "1 | A | a -> Papaya Salad\n",
            "2 | B | b -> Grilled Chicken\n",
            "3 | C | c -> Sticky Rice\n",
            "Enter Menu: B\n",
            "Your order is Grilled Chicken"
          ]
        },
        {
          "output_type": "execute_result",
          "data": {
            "text/plain": [
              ""
            ]
          },
          "metadata": {},
          "execution_count": 145
        }
      ]
    },
    {
      "cell_type": "code",
      "metadata": {
        "colab": {
          "base_uri": "https://localhost:8080/"
        },
        "id": "yczqu17W-VQf",
        "outputId": "19af947a-b1a6-45ee-8501-cc3a849a088c"
      },
      "source": [
        "%%shell\n",
        "./LAB_13"
      ],
      "execution_count": null,
      "outputs": [
        {
          "output_type": "stream",
          "name": "stdout",
          "text": [
            "Menu:\n",
            "1 | A | a -> Papaya Salad\n",
            "2 | B | b -> Grilled Chicken\n",
            "3 | C | c -> Sticky Rice\n",
            "Enter Menu: b\n",
            "Your order is Grilled Chicken"
          ]
        },
        {
          "output_type": "execute_result",
          "data": {
            "text/plain": [
              ""
            ]
          },
          "metadata": {},
          "execution_count": 146
        }
      ]
    },
    {
      "cell_type": "markdown",
      "metadata": {
        "id": "poDlE6Ux9XwR"
      },
      "source": [
        "กรณีที่ 3 case 3 C c"
      ]
    },
    {
      "cell_type": "code",
      "metadata": {
        "colab": {
          "base_uri": "https://localhost:8080/"
        },
        "id": "y63k5uSs96Fa",
        "outputId": "b5a17c73-5053-40b9-b38f-314c8b3db5d8"
      },
      "source": [
        "%%shell\n",
        "./LAB_13"
      ],
      "execution_count": null,
      "outputs": [
        {
          "output_type": "stream",
          "name": "stdout",
          "text": [
            "Menu:\n",
            "1 | A | a -> Papaya Salad\n",
            "2 | B | b -> Grilled Chicken\n",
            "3 | C | c -> Sticky Rice\n",
            "Enter Menu: 3\n",
            "Your order is Sticky Rice"
          ]
        },
        {
          "output_type": "execute_result",
          "data": {
            "text/plain": [
              ""
            ]
          },
          "metadata": {},
          "execution_count": 139
        }
      ]
    },
    {
      "cell_type": "code",
      "metadata": {
        "colab": {
          "base_uri": "https://localhost:8080/"
        },
        "id": "Rp73U4gV-ggQ",
        "outputId": "bc4e9c01-d153-4469-9a46-670104be3393"
      },
      "source": [
        "%%shell\n",
        "./LAB_13"
      ],
      "execution_count": null,
      "outputs": [
        {
          "output_type": "stream",
          "name": "stdout",
          "text": [
            "Menu:\n",
            "1 | A | a -> Papaya Salad\n",
            "2 | B | b -> Grilled Chicken\n",
            "3 | C | c -> Sticky Rice\n",
            "Enter Menu: C\n",
            "Your order is Sticky Rice"
          ]
        },
        {
          "output_type": "execute_result",
          "data": {
            "text/plain": [
              ""
            ]
          },
          "metadata": {},
          "execution_count": 147
        }
      ]
    },
    {
      "cell_type": "code",
      "metadata": {
        "colab": {
          "base_uri": "https://localhost:8080/"
        },
        "id": "be2ZUZN--hVV",
        "outputId": "c88ef864-89aa-474b-d2d1-961e34f43efc"
      },
      "source": [
        "%%shell\n",
        "./LAB_13"
      ],
      "execution_count": null,
      "outputs": [
        {
          "output_type": "stream",
          "name": "stdout",
          "text": [
            "Menu:\n",
            "1 | A | a -> Papaya Salad\n",
            "2 | B | b -> Grilled Chicken\n",
            "3 | C | c -> Sticky Rice\n",
            "Enter Menu: c\n",
            "Your order is Sticky Rice"
          ]
        },
        {
          "output_type": "execute_result",
          "data": {
            "text/plain": [
              ""
            ]
          },
          "metadata": {},
          "execution_count": 148
        }
      ]
    },
    {
      "cell_type": "markdown",
      "metadata": {
        "id": "_jLWaKAp9dfZ"
      },
      "source": [
        "กรณีที่ 4 case default 4 P p"
      ]
    },
    {
      "cell_type": "code",
      "metadata": {
        "colab": {
          "base_uri": "https://localhost:8080/"
        },
        "id": "rVRTEPsQ96xX",
        "outputId": "6416377b-59e6-4db5-81a2-a8c809983b3e"
      },
      "source": [
        "%%shell\n",
        "./LAB_13"
      ],
      "execution_count": null,
      "outputs": [
        {
          "output_type": "stream",
          "name": "stdout",
          "text": [
            "Menu:\n",
            "1 | A | a -> Papaya Salad\n",
            "2 | B | b -> Grilled Chicken\n",
            "3 | C | c -> Sticky Rice\n",
            "Enter Menu: 4\n",
            "Incorrect order\n"
          ]
        },
        {
          "output_type": "execute_result",
          "data": {
            "text/plain": [
              ""
            ]
          },
          "metadata": {},
          "execution_count": 140
        }
      ]
    },
    {
      "cell_type": "code",
      "metadata": {
        "colab": {
          "base_uri": "https://localhost:8080/"
        },
        "id": "lMblABWM-ybd",
        "outputId": "e54968b5-bcdf-4043-a12e-6521e27f606e"
      },
      "source": [
        "%%shell\n",
        "./LAB_13"
      ],
      "execution_count": null,
      "outputs": [
        {
          "output_type": "stream",
          "name": "stdout",
          "text": [
            "Menu:\n",
            "1 | A | a -> Papaya Salad\n",
            "2 | B | b -> Grilled Chicken\n",
            "3 | C | c -> Sticky Rice\n",
            "Enter Menu: P\n",
            "Incorrect order\n"
          ]
        },
        {
          "output_type": "execute_result",
          "data": {
            "text/plain": [
              ""
            ]
          },
          "metadata": {},
          "execution_count": 149
        }
      ]
    },
    {
      "cell_type": "code",
      "metadata": {
        "colab": {
          "base_uri": "https://localhost:8080/"
        },
        "id": "caGZcKbu-y51",
        "outputId": "2c154431-8e7f-4f69-91c2-83061cf2665f"
      },
      "source": [
        "%%shell\n",
        "./LAB_13"
      ],
      "execution_count": null,
      "outputs": [
        {
          "output_type": "stream",
          "name": "stdout",
          "text": [
            "Menu:\n",
            "1 | A | a -> Papaya Salad\n",
            "2 | B | b -> Grilled Chicken\n",
            "3 | C | c -> Sticky Rice\n",
            "Enter Menu: p\n",
            "Incorrect order\n"
          ]
        },
        {
          "output_type": "execute_result",
          "data": {
            "text/plain": [
              ""
            ]
          },
          "metadata": {},
          "execution_count": 150
        }
      ]
    },
    {
      "cell_type": "markdown",
      "metadata": {
        "id": "IpLWTvnr31Cd"
      },
      "source": [
        "## LAB 14"
      ]
    },
    {
      "cell_type": "code",
      "metadata": {
        "colab": {
          "base_uri": "https://localhost:8080/"
        },
        "id": "p3q2R5fc4Yy-",
        "outputId": "99631b26-de66-4c35-a143-fe0db18f830c"
      },
      "source": [
        "%%writefile LAB_14.c\n",
        "#include <stdio.h>\n",
        "int main()\n",
        "{\n",
        "       int i;\n",
        "       for(i=1;i<=12;i++)\n",
        "       {\n",
        "       printf(\"3 x %d = %d\\n\",i,i*3);\n",
        "\n",
        "       }\n",
        "       return 0;\n",
        "}"
      ],
      "execution_count": null,
      "outputs": [
        {
          "output_type": "stream",
          "name": "stdout",
          "text": [
            "Overwriting LAB_14.c\n"
          ]
        }
      ]
    },
    {
      "cell_type": "code",
      "metadata": {
        "colab": {
          "base_uri": "https://localhost:8080/"
        },
        "id": "NiU5GTWI5L2R",
        "outputId": "85009b9a-f9dd-459c-8910-b333b6a6f5d1"
      },
      "source": [
        "%%shell\n",
        "gcc -Wall LAB_14.c -o LAB_14"
      ],
      "execution_count": null,
      "outputs": [
        {
          "output_type": "execute_result",
          "data": {
            "text/plain": [
              ""
            ]
          },
          "metadata": {},
          "execution_count": 8
        }
      ]
    },
    {
      "cell_type": "code",
      "metadata": {
        "colab": {
          "base_uri": "https://localhost:8080/"
        },
        "id": "j0DEkRUp5Mgv",
        "outputId": "1d1cb99f-b846-499c-9f9b-3c9f7fb5b90b"
      },
      "source": [
        "%%shell\n",
        "./LAB_14"
      ],
      "execution_count": null,
      "outputs": [
        {
          "output_type": "stream",
          "name": "stdout",
          "text": [
            "3 x 1 = 3\n",
            "3 x 2 = 6\n",
            "3 x 3 = 9\n",
            "3 x 4 = 12\n",
            "3 x 5 = 15\n",
            "3 x 6 = 18\n",
            "3 x 7 = 21\n",
            "3 x 8 = 24\n",
            "3 x 9 = 27\n",
            "3 x 10 = 30\n",
            "3 x 11 = 33\n",
            "3 x 12 = 36\n"
          ]
        },
        {
          "output_type": "execute_result",
          "data": {
            "text/plain": [
              ""
            ]
          },
          "metadata": {},
          "execution_count": 9
        }
      ]
    },
    {
      "cell_type": "markdown",
      "metadata": {
        "id": "df61l82A5Ubn"
      },
      "source": [
        "## LAB 15"
      ]
    },
    {
      "cell_type": "code",
      "metadata": {
        "colab": {
          "base_uri": "https://localhost:8080/"
        },
        "id": "TOwL2ycV5nAk",
        "outputId": "8cc89d58-6105-47cb-c390-96af8b62d2e6"
      },
      "source": [
        "%%writefile LAB_15.c\n",
        "#include <stdio.h>\n",
        "int main()\n",
        "{\n",
        "       int i;\n",
        "       for(i=12;i>=1;i--)\n",
        "       {\n",
        "       printf(\"3 x %d = %d\\n\",i,i*3);\n",
        "\n",
        "       }\n",
        "       return 0;\n",
        "}"
      ],
      "execution_count": null,
      "outputs": [
        {
          "output_type": "stream",
          "name": "stdout",
          "text": [
            "Writing LAB_15.c\n"
          ]
        }
      ]
    },
    {
      "cell_type": "code",
      "metadata": {
        "colab": {
          "base_uri": "https://localhost:8080/"
        },
        "id": "liuiXzrm5tdQ",
        "outputId": "ed496ea8-423c-47c1-af55-d79ef86e1df8"
      },
      "source": [
        "%%shell\n",
        "gcc -Wall LAB_15.c -o LAB_15"
      ],
      "execution_count": null,
      "outputs": [
        {
          "output_type": "execute_result",
          "data": {
            "text/plain": [
              ""
            ]
          },
          "metadata": {},
          "execution_count": 11
        }
      ]
    },
    {
      "cell_type": "code",
      "metadata": {
        "colab": {
          "base_uri": "https://localhost:8080/"
        },
        "id": "vEAgeLuO5t9n",
        "outputId": "060a57f7-a403-4235-8cac-149864bee0cf"
      },
      "source": [
        "%%shell\n",
        "./LAB_15"
      ],
      "execution_count": null,
      "outputs": [
        {
          "output_type": "stream",
          "name": "stdout",
          "text": [
            "3 x 12 = 36\n",
            "3 x 11 = 33\n",
            "3 x 10 = 30\n",
            "3 x 9 = 27\n",
            "3 x 8 = 24\n",
            "3 x 7 = 21\n",
            "3 x 6 = 18\n",
            "3 x 5 = 15\n",
            "3 x 4 = 12\n",
            "3 x 3 = 9\n",
            "3 x 2 = 6\n",
            "3 x 1 = 3\n"
          ]
        },
        {
          "output_type": "execute_result",
          "data": {
            "text/plain": [
              ""
            ]
          },
          "metadata": {},
          "execution_count": 12
        }
      ]
    },
    {
      "cell_type": "markdown",
      "metadata": {
        "id": "OGz1IouD7Pl_"
      },
      "source": [
        "## LAB 16"
      ]
    },
    {
      "cell_type": "code",
      "metadata": {
        "colab": {
          "base_uri": "https://localhost:8080/"
        },
        "id": "nASJCNSP7Qsq",
        "outputId": "b686a72a-8655-49ac-869e-018391cbbb73"
      },
      "source": [
        "%%writefile LAB_16.c\n",
        "#include <stdio.h>\n",
        "int main ()\n",
        "{\n",
        "  int i,num;\n",
        "  printf(\"\\nInput number: \");\n",
        "  scanf(\"%d\",&num);\n",
        "  for(i=1;i<13;i++)\n",
        "    {\n",
        "      printf(\"%d x %d = %d\\n\",num,i,i*num);\n",
        "    }\n",
        "       return 0;\n",
        "}"
      ],
      "execution_count": null,
      "outputs": [
        {
          "output_type": "stream",
          "name": "stdout",
          "text": [
            "Overwriting LAB_16.c\n"
          ]
        }
      ]
    },
    {
      "cell_type": "code",
      "metadata": {
        "colab": {
          "base_uri": "https://localhost:8080/"
        },
        "id": "0k__m-PM73Vg",
        "outputId": "72d47271-47e0-4d73-b604-d35c57ee6b9e"
      },
      "source": [
        "%%shell\n",
        "gcc -Wall LAB_16.c -o LAB_16"
      ],
      "execution_count": null,
      "outputs": [
        {
          "output_type": "execute_result",
          "data": {
            "text/plain": [
              ""
            ]
          },
          "metadata": {},
          "execution_count": 28
        }
      ]
    },
    {
      "cell_type": "code",
      "metadata": {
        "colab": {
          "base_uri": "https://localhost:8080/"
        },
        "id": "vvRFmEr576fI",
        "outputId": "d0d9a565-7e00-4543-ff3e-4e5bdb24a0f1"
      },
      "source": [
        "%%shell\n",
        "./LAB_16"
      ],
      "execution_count": null,
      "outputs": [
        {
          "output_type": "stream",
          "name": "stdout",
          "text": [
            "\n",
            "Input number: 8\n",
            "8 x 1 = 8\n",
            "8 x 2 = 16\n",
            "8 x 3 = 24\n",
            "8 x 4 = 32\n",
            "8 x 5 = 40\n",
            "8 x 6 = 48\n",
            "8 x 7 = 56\n",
            "8 x 8 = 64\n",
            "8 x 9 = 72\n",
            "8 x 10 = 80\n",
            "8 x 11 = 88\n",
            "8 x 12 = 96\n"
          ]
        },
        {
          "output_type": "execute_result",
          "data": {
            "text/plain": [
              ""
            ]
          },
          "metadata": {},
          "execution_count": 29
        }
      ]
    },
    {
      "cell_type": "markdown",
      "metadata": {
        "id": "ih2n1qsQ9Pk4"
      },
      "source": [
        "## LAB 17"
      ]
    },
    {
      "cell_type": "code",
      "metadata": {
        "colab": {
          "base_uri": "https://localhost:8080/"
        },
        "id": "q6gP8Gh59Ti4",
        "outputId": "2e6c57ed-f488-444e-f5a0-f9b7a7d39caf"
      },
      "source": [
        "%%writefile LAB_17.c\n",
        "#include <stdio.h>\n",
        "int main()\n",
        "{\n",
        "    int multiply_num,start_num,end_num;\n",
        "    printf(\"Enter multiply formula : \");\n",
        "    scanf(\"%d\",&multiply_num);\n",
        "    printf(\"Enter start number : \");    \n",
        "    scanf(\"%d\",&start_num);\n",
        "    printf(\"Enter end number : \");\n",
        "    scanf(\"%d\",&end_num);\n",
        "    for(start_num = start_num ; start_num <= end_num; start_num++)\n",
        "      {\n",
        "        printf(\"%d x %d = %d\\n\",multiply_num,start_num,multiply_num*start_num);\n",
        "      }\n",
        "    return 0 ;\n",
        "}"
      ],
      "execution_count": null,
      "outputs": [
        {
          "output_type": "stream",
          "name": "stdout",
          "text": [
            "Overwriting LAB_17.c\n"
          ]
        }
      ]
    },
    {
      "cell_type": "code",
      "metadata": {
        "colab": {
          "base_uri": "https://localhost:8080/"
        },
        "id": "5hUVQJ7X-wiT",
        "outputId": "1aa377af-6436-4e11-b10f-960013afe6ed"
      },
      "source": [
        "%%shell\n",
        "gcc -Wall LAB_17.c -o LAB_17"
      ],
      "execution_count": null,
      "outputs": [
        {
          "output_type": "execute_result",
          "data": {
            "text/plain": [
              ""
            ]
          },
          "metadata": {},
          "execution_count": 26
        }
      ]
    },
    {
      "cell_type": "code",
      "metadata": {
        "colab": {
          "base_uri": "https://localhost:8080/"
        },
        "id": "MfgklzXyRemX",
        "outputId": "8b3742b5-9bd5-467c-b5a6-e6f1dd8a7130"
      },
      "source": [
        "%%shell\n",
        "./LAB_17"
      ],
      "execution_count": null,
      "outputs": [
        {
          "output_type": "stream",
          "name": "stdout",
          "text": [
            "Enter multiply formula : 4\n",
            "Enter start number : 1\n",
            "Enter end number : 8\n",
            "4 x 1 = 4\n",
            "4 x 2 = 8\n",
            "4 x 3 = 12\n",
            "4 x 4 = 16\n",
            "4 x 5 = 20\n",
            "4 x 6 = 24\n",
            "4 x 7 = 28\n",
            "4 x 8 = 32\n"
          ]
        },
        {
          "output_type": "execute_result",
          "data": {
            "text/plain": [
              ""
            ]
          },
          "metadata": {},
          "execution_count": 27
        }
      ]
    },
    {
      "cell_type": "code",
      "metadata": {
        "colab": {
          "base_uri": "https://localhost:8080/"
        },
        "id": "cm2ft7WOShuW",
        "outputId": "f4b266e0-4a85-4000-8ed8-6d3128b1c775"
      },
      "source": [
        "%%shell\n",
        "./LAB_17"
      ],
      "execution_count": null,
      "outputs": [
        {
          "output_type": "stream",
          "name": "stdout",
          "text": [
            "Enter multiply formula : 6\n",
            "Enter start number : 1\n",
            "Enter end number : 5\n",
            "6 x 1 = 6\n",
            "6 x 2 = 12\n",
            "6 x 3 = 18\n",
            "6 x 4 = 24\n",
            "6 x 5 = 30\n"
          ]
        },
        {
          "output_type": "execute_result",
          "data": {
            "text/plain": [
              ""
            ]
          },
          "metadata": {},
          "execution_count": 28
        }
      ]
    },
    {
      "cell_type": "markdown",
      "metadata": {
        "id": "8pzGD-iZfOIr"
      },
      "source": [
        "## LAB 18"
      ]
    },
    {
      "cell_type": "code",
      "metadata": {
        "colab": {
          "base_uri": "https://localhost:8080/"
        },
        "id": "bF58PKc7fSEK",
        "outputId": "083a385f-fe35-41da-ef7a-6a086a4d8ffd"
      },
      "source": [
        "%%writefile LAB_18.c\n",
        "#include <stdio.h>\n",
        "int main()\n",
        "{\n",
        "    int i;\n",
        "    char c;\n",
        "    printf(\"Enter u to display uppercase \\n\");\n",
        "    printf(\"Enter l to display lowercase \\n\");\n",
        "    scanf(\"%c\", &c);\n",
        "    printf(\"\\n\");\n",
        "    if (c == 'U' || c == 'u') {\n",
        "        for(i=65; i<=90; i++)\n",
        "        {\n",
        "            printf(\"%c \\n\",i);\n",
        "        }\n",
        "    }\n",
        "    if (c == 'L' || c == 'l') {\n",
        "        for(i=97; i<=122; i++)\n",
        "        {\n",
        "            printf(\"%c \\n\",i);\n",
        "        }\n",
        "    }\n",
        " return 0 ;\n",
        "}"
      ],
      "execution_count": null,
      "outputs": [
        {
          "output_type": "stream",
          "name": "stdout",
          "text": [
            "Overwriting LAB_18.c\n"
          ]
        }
      ]
    },
    {
      "cell_type": "code",
      "metadata": {
        "colab": {
          "base_uri": "https://localhost:8080/"
        },
        "id": "b0XRPuw2gWE6",
        "outputId": "5b7044c4-97b4-4353-a04e-77253f025a1e"
      },
      "source": [
        "%%shell\n",
        "gcc -Wall LAB_18.c -o LAB_18"
      ],
      "execution_count": null,
      "outputs": [
        {
          "output_type": "execute_result",
          "data": {
            "text/plain": [
              ""
            ]
          },
          "metadata": {},
          "execution_count": 28
        }
      ]
    },
    {
      "cell_type": "code",
      "metadata": {
        "colab": {
          "base_uri": "https://localhost:8080/"
        },
        "id": "KGZ7JMLhgYd7",
        "outputId": "c51c91c8-41a4-46ec-d9ee-bfb31caacc07"
      },
      "source": [
        "%%shell\n",
        "./LAB_18"
      ],
      "execution_count": null,
      "outputs": [
        {
          "output_type": "stream",
          "name": "stdout",
          "text": [
            "Enter u to display uppercase \n",
            "Enter l to display lowercase \n",
            "l\n",
            "\n",
            "a \n",
            "b \n",
            "c \n",
            "d \n",
            "e \n",
            "f \n",
            "g \n",
            "h \n",
            "i \n",
            "j \n",
            "k \n",
            "l \n",
            "m \n",
            "n \n",
            "o \n",
            "p \n",
            "q \n",
            "r \n",
            "s \n",
            "t \n",
            "u \n",
            "v \n",
            "w \n",
            "x \n",
            "y \n",
            "z \n"
          ]
        },
        {
          "output_type": "execute_result",
          "data": {
            "text/plain": [
              ""
            ]
          },
          "metadata": {},
          "execution_count": 30
        }
      ]
    },
    {
      "cell_type": "code",
      "metadata": {
        "colab": {
          "base_uri": "https://localhost:8080/"
        },
        "id": "IoUAEaWgksrR",
        "outputId": "ce5accd3-abf2-47d8-f32d-d0da225dea52"
      },
      "source": [
        "%%shell\n",
        "./LAB_18"
      ],
      "execution_count": null,
      "outputs": [
        {
          "output_type": "stream",
          "name": "stdout",
          "text": [
            "Enter u to display uppercase \n",
            "Enter l to display lowercase \n",
            "u\n",
            "\n",
            "A \n",
            "B \n",
            "C \n",
            "D \n",
            "E \n",
            "F \n",
            "G \n",
            "H \n",
            "I \n",
            "J \n",
            "K \n",
            "L \n",
            "M \n",
            "N \n",
            "O \n",
            "P \n",
            "Q \n",
            "R \n",
            "S \n",
            "T \n",
            "U \n",
            "V \n",
            "W \n",
            "X \n",
            "Y \n",
            "Z \n"
          ]
        },
        {
          "output_type": "execute_result",
          "data": {
            "text/plain": [
              ""
            ]
          },
          "metadata": {},
          "execution_count": 33
        }
      ]
    },
    {
      "cell_type": "markdown",
      "metadata": {
        "id": "DFxnolMkl7dN"
      },
      "source": [
        "## LAB 19"
      ]
    },
    {
      "cell_type": "code",
      "metadata": {
        "colab": {
          "base_uri": "https://localhost:8080/"
        },
        "id": "7-psG3LkmBQD",
        "outputId": "81857925-d760-4cea-aa59-d1f79d40b188"
      },
      "source": [
        "%%writefile LAB_19.c\n",
        "#include <stdio.h>\n",
        "int main()\n",
        "{\n",
        "    int i,N,j;\n",
        "    printf(\"#Loop Star=\");\n",
        "    scanf(\"%d\", &N);\n",
        "    for(i=1; i<=N; i++)\n",
        "    {\n",
        "        for(j=1; j<=i; j++)\n",
        "        {\n",
        "            printf(\"*\");\n",
        "        }\n",
        "    printf(\"\\n\");\n",
        "    }\n",
        " return 0;\n",
        "}"
      ],
      "execution_count": null,
      "outputs": [
        {
          "output_type": "stream",
          "name": "stdout",
          "text": [
            "Overwriting LAB_19.c\n"
          ]
        }
      ]
    },
    {
      "cell_type": "code",
      "metadata": {
        "colab": {
          "base_uri": "https://localhost:8080/"
        },
        "id": "VnhDDy24nP90",
        "outputId": "0a2648d1-a76e-4263-e7f6-9dfeaf5d4407"
      },
      "source": [
        "%%shell\n",
        "gcc -Wall LAB_19.c -o LAB_19"
      ],
      "execution_count": null,
      "outputs": [
        {
          "output_type": "execute_result",
          "data": {
            "text/plain": [
              ""
            ]
          },
          "metadata": {},
          "execution_count": 73
        }
      ]
    },
    {
      "cell_type": "code",
      "metadata": {
        "colab": {
          "base_uri": "https://localhost:8080/"
        },
        "id": "dc1dIBpNoZ2t",
        "outputId": "cb914320-6e5f-45e4-80e8-2972a6e7c1e3"
      },
      "source": [
        "%%shell\n",
        "./LAB_19"
      ],
      "execution_count": null,
      "outputs": [
        {
          "output_type": "stream",
          "name": "stdout",
          "text": [
            "#Loop Star=6\n",
            "*\n",
            "**\n",
            "***\n",
            "****\n",
            "*****\n",
            "******\n"
          ]
        },
        {
          "output_type": "execute_result",
          "data": {
            "text/plain": [
              ""
            ]
          },
          "metadata": {},
          "execution_count": 74
        }
      ]
    },
    {
      "cell_type": "code",
      "metadata": {
        "colab": {
          "base_uri": "https://localhost:8080/"
        },
        "id": "zys1pLLCqCE0",
        "outputId": "9fe24839-9a3f-4dbc-81df-3e90724811c1"
      },
      "source": [
        "%%shell\n",
        "./LAB_19"
      ],
      "execution_count": null,
      "outputs": [
        {
          "output_type": "stream",
          "name": "stdout",
          "text": [
            "#Loop Star=8\n",
            "*\n",
            "**\n",
            "***\n",
            "****\n",
            "*****\n",
            "******\n",
            "*******\n",
            "********\n"
          ]
        },
        {
          "output_type": "execute_result",
          "data": {
            "text/plain": [
              ""
            ]
          },
          "metadata": {},
          "execution_count": 75
        }
      ]
    },
    {
      "cell_type": "markdown",
      "metadata": {
        "id": "DdAh7ue6q2oS"
      },
      "source": [
        "## LAB 19.1"
      ]
    },
    {
      "cell_type": "code",
      "metadata": {
        "id": "CXT8iPnFq6LQ",
        "colab": {
          "base_uri": "https://localhost:8080/"
        },
        "outputId": "112d7da5-9ae4-46f9-d2be-584087c0cb08"
      },
      "source": [
        "%%writefile LAB_19.1.c\n",
        "#include <stdio.h>\n",
        "int main()\n",
        "{\n",
        "    int i;\n",
        "    int cumu_mul = 1;\n",
        "    // cumulative Multiply\n",
        " for(i=1; i<=10; i++)\n",
        " {\n",
        "    if(i == 4 || i== 7|| i== 9 ) continue;\n",
        "     cumu_mul*=i; // cumu_mul=cumu_mul*i;\n",
        " }\n",
        " printf(\"cumu_mul Number 1-10 (except 4, 7, and 9) = %d\", cumu_mul);\n",
        " return 0;\n",
        "}"
      ],
      "execution_count": null,
      "outputs": [
        {
          "output_type": "stream",
          "name": "stdout",
          "text": [
            "Overwriting LAB_19.1.c\n"
          ]
        }
      ]
    },
    {
      "cell_type": "code",
      "metadata": {
        "colab": {
          "base_uri": "https://localhost:8080/"
        },
        "id": "mEeOli4XxpSm",
        "outputId": "535fa4db-eafa-4e21-9c75-92a0d2c2c163"
      },
      "source": [
        "%%shell\n",
        "gcc -Wall LAB_19.1.c -o LAB_19.1"
      ],
      "execution_count": null,
      "outputs": [
        {
          "output_type": "execute_result",
          "data": {
            "text/plain": [
              ""
            ]
          },
          "metadata": {},
          "execution_count": 88
        }
      ]
    },
    {
      "cell_type": "code",
      "metadata": {
        "colab": {
          "base_uri": "https://localhost:8080/"
        },
        "id": "bSfXOtPFxwXL",
        "outputId": "1dc409ee-b03d-4d39-b46a-81c48d9aca48"
      },
      "source": [
        "%%shell\n",
        "./LAB_19.1"
      ],
      "execution_count": null,
      "outputs": [
        {
          "output_type": "stream",
          "name": "stdout",
          "text": [
            "cumu_mul Number 1-10 (except 4, 7, and 9) = 14400"
          ]
        },
        {
          "output_type": "execute_result",
          "data": {
            "text/plain": [
              ""
            ]
          },
          "metadata": {},
          "execution_count": 89
        }
      ]
    },
    {
      "cell_type": "markdown",
      "metadata": {
        "id": "adPeIGxI03VH"
      },
      "source": [
        "## LAB 19.2"
      ]
    },
    {
      "cell_type": "code",
      "metadata": {
        "colab": {
          "base_uri": "https://localhost:8080/"
        },
        "id": "Jyl7Ms470_Iy",
        "outputId": "fe4c268c-b7e9-4847-8b78-6d8a01241ca7"
      },
      "source": [
        "%%writefile LAB_19.2.c\n",
        "#include <stdio.h>\n",
        "int main()\n",
        "{\n",
        "    int i;\n",
        "    int cumu_mul = 1; // cumulative Multiply\n",
        " for(i=1;;i++) \n",
        " {\n",
        "    cumu_mul*=i; // cumu_mul=cumu_mul*i;\n",
        "    if(cumu_mul>36000000) break;\n",
        "  \n",
        " }\n",
        "  printf(\"cumu_mul Number until-> 36,000,000 = %d and stop at i=%d\",cumu_mul, i);\n",
        " return 0;\n",
        "}"
      ],
      "execution_count": null,
      "outputs": [
        {
          "output_type": "stream",
          "name": "stdout",
          "text": [
            "Overwriting LAB_19.2.c\n"
          ]
        }
      ]
    },
    {
      "cell_type": "code",
      "metadata": {
        "colab": {
          "base_uri": "https://localhost:8080/"
        },
        "id": "4WDzc_Hb1DMu",
        "outputId": "d8cbf869-7017-4f24-abf8-e02d376247b1"
      },
      "source": [
        "%%shell\n",
        "gcc -Wall LAB_19.2.c -o LAB_19.2"
      ],
      "execution_count": null,
      "outputs": [
        {
          "output_type": "execute_result",
          "data": {
            "text/plain": [
              ""
            ]
          },
          "metadata": {},
          "execution_count": 125
        }
      ]
    },
    {
      "cell_type": "code",
      "metadata": {
        "colab": {
          "base_uri": "https://localhost:8080/"
        },
        "id": "F4uNUZn31E0U",
        "outputId": "9e99889f-82d0-49dc-896c-191b090bf4b3"
      },
      "source": [
        "%%shell\n",
        "./LAB_19.2"
      ],
      "execution_count": null,
      "outputs": [
        {
          "output_type": "stream",
          "name": "stdout",
          "text": [
            "cumu_mul Number until-> 36,000,000 = 39916800 and stop at i=11"
          ]
        },
        {
          "output_type": "execute_result",
          "data": {
            "text/plain": [
              ""
            ]
          },
          "metadata": {},
          "execution_count": 126
        }
      ]
    },
    {
      "cell_type": "markdown",
      "metadata": {
        "id": "6XuOC52_6QPB"
      },
      "source": [
        "## LAB 20"
      ]
    },
    {
      "cell_type": "code",
      "metadata": {
        "colab": {
          "base_uri": "https://localhost:8080/"
        },
        "id": "EmdbTE0c6T5O",
        "outputId": "3ac009d3-a673-4190-9c44-e1f86a86f635"
      },
      "source": [
        "%%writefile LAB_20.c\n",
        "#include <stdio.h>\n",
        "int main()\n",
        "{\n",
        "  int i=1;\n",
        "  while(i<=12)\n",
        "  { \n",
        "    printf(\"2 x %d = %d\\n\",i,2*i);\n",
        "    i++;\n",
        "  }\n",
        " return 0;\n",
        "}"
      ],
      "execution_count": null,
      "outputs": [
        {
          "output_type": "stream",
          "name": "stdout",
          "text": [
            "Overwriting LAB_20.c\n"
          ]
        }
      ]
    },
    {
      "cell_type": "code",
      "metadata": {
        "id": "uQ0gW3X66U_n",
        "colab": {
          "base_uri": "https://localhost:8080/"
        },
        "outputId": "56421dd1-40b2-4582-e806-a31dfd113ea4"
      },
      "source": [
        "%%shell\n",
        "gcc -Wall LAB_20.c -o LAB_20"
      ],
      "execution_count": null,
      "outputs": [
        {
          "output_type": "execute_result",
          "data": {
            "text/plain": [
              ""
            ]
          },
          "metadata": {},
          "execution_count": 142
        }
      ]
    },
    {
      "cell_type": "code",
      "metadata": {
        "colab": {
          "base_uri": "https://localhost:8080/"
        },
        "id": "OHRbnNsQ6X_M",
        "outputId": "cd2b1205-edb8-4b82-bf33-3317dba72737"
      },
      "source": [
        "%%shell\n",
        "./LAB_20"
      ],
      "execution_count": null,
      "outputs": [
        {
          "output_type": "stream",
          "name": "stdout",
          "text": [
            "2 x 1 = 2\n",
            "2 x 2 = 4\n",
            "2 x 3 = 6\n",
            "2 x 4 = 8\n",
            "2 x 5 = 10\n",
            "2 x 6 = 12\n",
            "2 x 7 = 14\n",
            "2 x 8 = 16\n",
            "2 x 9 = 18\n",
            "2 x 10 = 20\n",
            "2 x 11 = 22\n",
            "2 x 12 = 24\n"
          ]
        },
        {
          "output_type": "execute_result",
          "data": {
            "text/plain": [
              ""
            ]
          },
          "metadata": {},
          "execution_count": 143
        }
      ]
    },
    {
      "cell_type": "markdown",
      "metadata": {
        "id": "ZOCkQEoR-D_N"
      },
      "source": [
        "## LAB 20"
      ]
    },
    {
      "cell_type": "code",
      "metadata": {
        "colab": {
          "base_uri": "https://localhost:8080/"
        },
        "id": "0H7yDJvr-GhZ",
        "outputId": "5a64add1-1694-4d15-fa8c-6ea42e707f7a"
      },
      "source": [
        "%%writefile LAB_20.1.c\n",
        "#include <stdio.h>\n",
        "#include <stdlib.h>\n",
        "#include <time.h>\n",
        "int main()\n",
        "{\n",
        "  srand(time(NULL)); // สุ่มเลข ให้สุมไม่ซ้ำ เเละกำหนดเวลาให้กับ func random\n",
        "  int r = rand()%11;\n",
        "  //printf(\"Randomized Number = %d \\n\",r); // เฉลยเลขที่ให้ทาย\n",
        "   \n",
        "  while(1)\n",
        "  { \n",
        "      int num;\n",
        "      printf(\"Guess a Number (1-10) : \"); \n",
        "      scanf(\"%d\", &num);\n",
        "    if(num == r )\n",
        "    {\n",
        "        printf(\"Correct! Number is %d\",r);\n",
        "        break;\n",
        "    }\n",
        "   else if(num < r)\n",
        "   {\n",
        "       printf(\"Number is too low \\n\");\n",
        "   }\n",
        "   else if(num > r)\n",
        "   {\n",
        "       printf(\"Number is too high \\n\");\n",
        "   }\n",
        "  }\n",
        " return 0;\n",
        "}"
      ],
      "execution_count": 194,
      "outputs": [
        {
          "output_type": "stream",
          "name": "stdout",
          "text": [
            "Overwriting LAB_20.1.c\n"
          ]
        }
      ]
    },
    {
      "cell_type": "code",
      "metadata": {
        "colab": {
          "base_uri": "https://localhost:8080/"
        },
        "id": "RNbNMg9a-KCc",
        "outputId": "92e509e1-90a5-4abd-a6cc-c186f9207868"
      },
      "source": [
        "%%shell\n",
        "gcc -Wall LAB_20.1.c -o LAB_20.1"
      ],
      "execution_count": 195,
      "outputs": [
        {
          "output_type": "execute_result",
          "data": {
            "text/plain": [
              ""
            ]
          },
          "metadata": {},
          "execution_count": 195
        }
      ]
    },
    {
      "cell_type": "code",
      "metadata": {
        "colab": {
          "base_uri": "https://localhost:8080/"
        },
        "id": "3e_bVF1H-MCz",
        "outputId": "882aa487-59ea-4e93-b47a-71637fcc459f"
      },
      "source": [
        "%%shell\n",
        "./LAB_20.1"
      ],
      "execution_count": 197,
      "outputs": [
        {
          "output_type": "stream",
          "name": "stdout",
          "text": [
            "Randomized Number = 4 \n",
            "Guess a Number (1-10) : 3\n",
            "Number is too low \n",
            "Guess a Number (1-10) : 5\n",
            "Number is too high \n",
            "Guess a Number (1-10) : 4\n",
            "Correct! Number is 4"
          ]
        },
        {
          "output_type": "execute_result",
          "data": {
            "text/plain": [
              ""
            ]
          },
          "metadata": {},
          "execution_count": 197
        }
      ]
    }
  ]
}