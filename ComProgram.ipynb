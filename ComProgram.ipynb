{
  "nbformat": 4,
  "nbformat_minor": 0,
  "metadata": {
    "colab": {
      "name": "ComProgram.ipynb",
      "provenance": [],
      "collapsed_sections": [],
      "include_colab_link": true
    },
    "kernelspec": {
      "name": "python3",
      "display_name": "Python 3"
    },
    "language_info": {
      "name": "python"
    }
  },
  "cells": [
    {
      "cell_type": "markdown",
      "metadata": {
        "id": "view-in-github",
        "colab_type": "text"
      },
      "source": [
        "<a href=\"https://colab.research.google.com/github/ENDERCAFe/Computer_Programming_Lab/blob/master/ComProgram.ipynb\" target=\"_parent\"><img src=\"https://colab.research.google.com/assets/colab-badge.svg\" alt=\"Open In Colab\"/></a>"
      ]
    },
    {
      "cell_type": "markdown",
      "metadata": {
        "id": "zVpkyrnz_NR-"
      },
      "source": [
        "#__เเนะนำตัว__\n",
        "- ชื่อ: นาย ณัฐกิตติ์ ฟองสุวรรณ\n",
        "- ชื่อเล่น: คิม\n",
        "- รหัสนักศึกษา: 164404140009\n",
        "- วิชาที่ชอบ: การเขียนโปรแกรม\n",
        "- ชื่อในเกมเเละเว็บไซต์ต่างๆ: ENDER_CAFE\n",
        "- งานอดิเรก: \n",
        "    1. เขียนโปรเเกรม\n",
        "    2. ทำ Mod เกม\n",
        "    3. ฟังเพลง\n",
        "    4. ระบบ IOT\n",
        "- ความสามารถ:\n",
        "    1. เชียนโปรแกรม\n",
        "    2. ซ่อมคอมพิวเตอร์\n",
        "    3. ทำระบบ IOT\n",
        "    4. ระบบ Network เบื่องต้น\n",
        "- ภาษาโปรแกรมที่ชอบ: Python\n",
        "\n",
        "#__ข้อมูลอื่นๆ__\n",
        "\n",
        "![G_mail](https://www.img.in.th/images/3ba5236b9faf0484f58584548d5cf96c.png)\n",
        "\n",
        "- E-mail ส่วนตัว: kimnk555@gmail.com\n",
        "- E-mail นักศึกษา: natthakit.f@rmutsv.ac.th\n",
        "\n",
        "![Facebook](https://www.img.in.th/images/f5c5e413b11dda41185e8a9ebed07520.png)\n",
        "\n",
        "- Facebook: https://www.facebook.com/ENDERCAFEe \n",
        "\n",
        "![Git_hub](https://www.img.in.th/images/1852545b29d7d67ace8295f37323b182.png)   \n",
        "\n",
        "- GitHub: https://github.com/ENDERCAFe\n",
        "\n",
        "\n",
        "\n",
        "            \n",
        "\n",
        "\n"
      ]
    },
    {
      "cell_type": "markdown",
      "metadata": {
        "id": "pSkmkX_UviA1"
      },
      "source": [
        "## LAB 05\n"
      ]
    },
    {
      "cell_type": "code",
      "metadata": {
        "colab": {
          "base_uri": "https://localhost:8080/"
        },
        "id": "FighHB4kyDkB",
        "outputId": "050ca596-8dfc-40e4-f7a1-47871c5b0b34"
      },
      "source": [
        "%%writefile LAB_05.c\n",
        "#include<stdio.h>\n",
        "\n",
        "int main()\n",
        "{\n",
        "    char name[50] = \"Natthakit Fongsuwan\";\n",
        "    char nickname[10] = \"kim\";\n",
        "    char std_id[20] = \"164404140009\";\n",
        "    int age = 19;\n",
        "    printf(\"My Name is %s. \\n\", name);\n",
        "    printf(\"My Nickname is %s. \\n\", nickname);\n",
        "    printf(\"My Student ID: %s \\n\", std_id);\n",
        "    printf(\"I'm %d years old. \\n\", age);  \n",
        "    return 0;\n",
        "}"
      ],
      "execution_count": null,
      "outputs": [
        {
          "output_type": "stream",
          "text": [
            "Overwriting LAB_05.c\n"
          ],
          "name": "stdout"
        }
      ]
    },
    {
      "cell_type": "code",
      "metadata": {
        "colab": {
          "base_uri": "https://localhost:8080/"
        },
        "id": "A0nNgNaiyzUo",
        "outputId": "e643d7cc-c01f-4393-cac6-453658942f0b"
      },
      "source": [
        "%%shell\n",
        "gcc -Wall LAB_05.c -o LAB_05"
      ],
      "execution_count": null,
      "outputs": [
        {
          "output_type": "execute_result",
          "data": {
            "text/plain": [
              ""
            ]
          },
          "metadata": {},
          "execution_count": 29
        }
      ]
    },
    {
      "cell_type": "code",
      "metadata": {
        "colab": {
          "base_uri": "https://localhost:8080/"
        },
        "id": "qMOEo3CLy3Fu",
        "outputId": "9bb69b80-4074-4234-9d39-46118d12712f"
      },
      "source": [
        "%%shell\n",
        "./LAB_05"
      ],
      "execution_count": null,
      "outputs": [
        {
          "output_type": "stream",
          "text": [
            "My Name is Natthakit Fongsuwan. \n",
            "My Nickname is kim. \n",
            "My Student ID: 164404140009 \n",
            "I'm 19 years old. \n"
          ],
          "name": "stdout"
        },
        {
          "output_type": "execute_result",
          "data": {
            "text/plain": [
              ""
            ]
          },
          "metadata": {},
          "execution_count": 30
        }
      ]
    },
    {
      "cell_type": "markdown",
      "metadata": {
        "id": "RTYVFUgiv6FI"
      },
      "source": [
        "## LAB 06"
      ]
    },
    {
      "cell_type": "code",
      "metadata": {
        "colab": {
          "base_uri": "https://localhost:8080/"
        },
        "id": "lwga4TR0v_Dd",
        "outputId": "2f0dcdc0-8c56-4eaa-8ca3-2280e1b98c06"
      },
      "source": [
        "%%writefile LAB_06.c\n",
        "#include<stdio.h>\n",
        "\n",
        "int main()\n",
        "{\n",
        "    int num = 40;\n",
        "    float abc = 3.14159;\n",
        "    char c = '4';\n",
        "    double average = 3.91818383918389;\n",
        "    char name[50] = \"Natthakit Fongsuwan\";\n",
        "    printf(\"num: %d \\n\", num);\n",
        "    printf(\"abc: %f \\n\", abc);\n",
        "    printf(\"c: %c \\n\", c);\n",
        "    printf(\"average: %f \\n\", average);\n",
        "    printf(\"name: %s \\n\", name);\n",
        "    return 0;\n",
        "}"
      ],
      "execution_count": null,
      "outputs": [
        {
          "output_type": "stream",
          "text": [
            "Overwriting LAB_06.c\n"
          ],
          "name": "stdout"
        }
      ]
    },
    {
      "cell_type": "code",
      "metadata": {
        "colab": {
          "base_uri": "https://localhost:8080/"
        },
        "id": "WF_mO72mxQVT",
        "outputId": "2d80ae70-6640-4148-b553-57f656a4435c"
      },
      "source": [
        "%%shell\n",
        "gcc -Wall LAB_06.c -o LAB_06"
      ],
      "execution_count": null,
      "outputs": [
        {
          "output_type": "execute_result",
          "data": {
            "text/plain": [
              ""
            ]
          },
          "metadata": {},
          "execution_count": 11
        }
      ]
    },
    {
      "cell_type": "code",
      "metadata": {
        "colab": {
          "base_uri": "https://localhost:8080/"
        },
        "id": "s9Fegb1kxyPj",
        "outputId": "9d49ebbb-992a-4616-b7b6-b51735637821"
      },
      "source": [
        "%%shell\n",
        "./LAB_06"
      ],
      "execution_count": null,
      "outputs": [
        {
          "output_type": "stream",
          "text": [
            "num: 40 \n",
            "abc: 3.141590 \n",
            "c: 4 \n",
            "average: 3.918184 \n",
            "name: Natthakit Fongsuwan \n"
          ],
          "name": "stdout"
        },
        {
          "output_type": "execute_result",
          "data": {
            "text/plain": [
              ""
            ]
          },
          "metadata": {},
          "execution_count": 12
        }
      ]
    },
    {
      "cell_type": "markdown",
      "metadata": {
        "id": "e1W8gBaOqkNT"
      },
      "source": [
        "asdasd"
      ]
    }
  ]
}